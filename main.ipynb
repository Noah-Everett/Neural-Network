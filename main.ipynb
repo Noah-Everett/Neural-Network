{
 "cells": [
  {
   "cell_type": "code",
   "execution_count": 1,
   "metadata": {},
   "outputs": [],
   "source": [
    "import input as lib_input\n",
    "import network as lib_network"
   ]
  },
  {
   "cell_type": "code",
   "execution_count": 2,
   "metadata": {},
   "outputs": [],
   "source": [
    "# Get data\n",
    "# inputs, inputs_classifications, inputs_oneHot = lib_input.getData( dataSets = [ \"Quest\", \"ON\" ], dir = \"/Users/noaheverett/Documents/Codes/Neural Network/Data Sets/\" )\n",
    "inputs = [ [ n for n in range( 10 ) ], [ n for n in range( 10 ) ] ]\n",
    "inputs_classifications = [ \"Quest\" for nInput in inputs ]\n",
    "inputs_oneHot = [ 0 for nInput in inputs ]\n",
    "\n",
    "# Trim input data\n",
    "del inputs[ 1: ]\n",
    "del inputs_classifications[ 1: ]\n",
    "del inputs_oneHot[ 1: ]"
   ]
  },
  {
   "cell_type": "code",
   "execution_count": 3,
   "metadata": {},
   "outputs": [],
   "source": [
    "# Make network\n",
    "network = lib_network.Network( nInputs = len( inputs[ 0 ] ), nOutputs = 3, nLayers = 1, nNeurons = 2, verbose = False )"
   ]
  },
  {
   "cell_type": "code",
   "execution_count": 4,
   "metadata": {},
   "outputs": [],
   "source": [
    "# Save network\n",
    "network.save( name = \"Protein_Powder_Containers_Neural_Network\", dir = \"/Users/noaheverett/Documents/Codes/Neural Network/\" )"
   ]
  },
  {
   "cell_type": "code",
   "execution_count": null,
   "metadata": {},
   "outputs": [],
   "source": []
  }
 ],
 "metadata": {
  "interpreter": {
   "hash": "aee8b7b246df8f9039afb4144a1f6fd8d2ca17a180786b69acc140d282b71a49"
  },
  "kernelspec": {
   "display_name": "Python 3.9.7 64-bit",
   "language": "python",
   "name": "python3"
  },
  "language_info": {
   "codemirror_mode": {
    "name": "ipython",
    "version": 3
   },
   "file_extension": ".py",
   "mimetype": "text/x-python",
   "name": "python",
   "nbconvert_exporter": "python",
   "pygments_lexer": "ipython3",
   "version": "3.9.7"
  },
  "orig_nbformat": 4
 },
 "nbformat": 4,
 "nbformat_minor": 2
}
